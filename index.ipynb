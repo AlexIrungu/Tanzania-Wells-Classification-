{
 "cells": [
  {
   "cell_type": "markdown",
   "metadata": {},
   "source": [
    "# **PHASE 3 PROJECT** \n"
   ]
  },
  {
   "cell_type": "markdown",
   "metadata": {},
   "source": [
    "### **Final Project Submission**\n",
    "Please fill out:\n",
    "\n",
    "Student name: Alex Irungu\n",
    "\n",
    "Group: GROUP 1\n",
    "\n",
    "Student pace: PART TIME \n",
    "\n",
    "Scheduled project review date/time: PHASE 3\n",
    "\n",
    "Instructor name: SAMUEL KARU"
   ]
  },
  {
   "cell_type": "markdown",
   "metadata": {},
   "source": [
    "## Business Understanding"
   ]
  },
  {
   "cell_type": "markdown",
   "metadata": {},
   "source": [
    "Limited access to safe drinking water affects hundreds of millions of people worldwide. Over 57 million Tanzanians are fighting to get access to clean water, life's most important resource. Access to clean, safe water is crucial for the health of Tanzanian households. Water is also critical to the development of the country because it is required for agricultural and industrial output. The issue of water supply in Tanzania is concerning, because while there is plenty of fresh water available throughout the country, there are several access issues with the country's water wells. There is a clear need to identify the non-functioning wells that are prohibiting citizens from exercising a core human right. Our model will enable government authorities to dentify which water wells require repairs and take immediate action to improve the quality of life for citizens in need."
   ]
  },
  {
   "cell_type": "markdown",
   "metadata": {},
   "source": [
    "## Objectives"
   ]
  },
  {
   "cell_type": "markdown",
   "metadata": {},
   "source": [
    "The research study was embodied based on the following objectives:\n",
    "\n",
    "    1. To predict the condition of a waterpoint pump based on the geographical location\n",
    "    2. To predict the condition of a waterpoint pump based on age\n",
    "    3. To find patterns in non-functional waterpoint to influence how new waterpoints are built\n",
    "    4. To identify effect of waterquality on water pumps"
   ]
  },
  {
   "cell_type": "markdown",
   "metadata": {},
   "source": [
    "## Model Success Metrics"
   ]
  },
  {
   "cell_type": "markdown",
   "metadata": {},
   "source": [
    "The models shall be evaluated based on Acurracy and Precision which are measures that indicate how well the model is able to identify the status of a water well given the other factors. For this study models that will attain a score of 65% and above on the stated metrics will be considered to be a well performing model"
   ]
  },
  {
   "cell_type": "markdown",
   "metadata": {},
   "source": [
    "## Data Understanding"
   ]
  },
  {
   "cell_type": "markdown",
   "metadata": {},
   "source": [
    "### Importing libraries and loading data"
   ]
  },
  {
   "cell_type": "code",
   "execution_count": 3,
   "metadata": {},
   "outputs": [],
   "source": [
    "# Import Libraries\n",
    "import pandas as pd\n",
    "import numpy as np\n",
    "import matplotlib.pyplot as plt\n",
    "import seaborn as sns\n",
    "\n",
    "from sklearn.preprocessing import LabelEncoder, OneHotEncoder\n",
    "from sklearn.model_selection import train_test_split, cross_val_score\n",
    "from sklearn.preprocessing import StandardScaler\n",
    "from sklearn.linear_model import LogisticRegression\n",
    "from sklearn.tree import DecisionTreeClassifier\n",
    "from sklearn.neighbors import KNeighborsClassifier\n",
    "from sklearn.ensemble import RandomForestClassifier\n",
    "from sklearn.metrics import classification_report\n",
    "\n",
    "import warnings\n",
    "warnings.filterwarnings('ignore')\n",
    "\n"
   ]
  },
  {
   "cell_type": "markdown",
   "metadata": {},
   "source": []
  },
  {
   "cell_type": "code",
   "execution_count": null,
   "metadata": {},
   "outputs": [],
   "source": [
    "# loading the dataset\n",
    "data = pd.read_csv(\"\")"
   ]
  }
 ],
 "metadata": {
  "kernelspec": {
   "display_name": "learn-env",
   "language": "python",
   "name": "python3"
  },
  "language_info": {
   "codemirror_mode": {
    "name": "ipython",
    "version": 3
   },
   "file_extension": ".py",
   "mimetype": "text/x-python",
   "name": "python",
   "nbconvert_exporter": "python",
   "pygments_lexer": "ipython3",
   "version": "3.8.5"
  }
 },
 "nbformat": 4,
 "nbformat_minor": 2
}
